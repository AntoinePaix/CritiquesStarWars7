{
 "cells": [
  {
   "cell_type": "code",
   "execution_count": 1,
   "metadata": {},
   "outputs": [],
   "source": [
    "import pandas as pd\n",
    "import matplotlib.pyplot as plt\n",
    "\n",
    "from sklearn.feature_extraction.text import CountVectorizer\n",
    "from sklearn.model_selection import train_test_split\n",
    "from sklearn.naive_bayes import MultinomialNB\n",
    "\n",
    "from sklearn.metrics import classification_report\n",
    "from sklearn.metrics import confusion_matrix\n",
    "\n",
    "import nltk\n",
    "#nltk.download('stopwords')\n",
    "from nltk.corpus import stopwords\n",
    "\n",
    "from colorama import Fore, Style\n",
    "\n",
    "%matplotlib inline"
   ]
  },
  {
   "cell_type": "code",
   "execution_count": 2,
   "metadata": {},
   "outputs": [],
   "source": [
    "df = pd.read_csv('datas/critiques_star_wars_7.csv')"
   ]
  },
  {
   "cell_type": "markdown",
   "metadata": {},
   "source": [
    "# Partie 1 : Quelques statistiques sur les données"
   ]
  },
  {
   "cell_type": "code",
   "execution_count": 3,
   "metadata": {},
   "outputs": [
    {
     "data": {
      "text/html": [
       "<div>\n",
       "<style scoped>\n",
       "    .dataframe tbody tr th:only-of-type {\n",
       "        vertical-align: middle;\n",
       "    }\n",
       "\n",
       "    .dataframe tbody tr th {\n",
       "        vertical-align: top;\n",
       "    }\n",
       "\n",
       "    .dataframe thead th {\n",
       "        text-align: right;\n",
       "    }\n",
       "</style>\n",
       "<table border=\"1\" class=\"dataframe\">\n",
       "  <thead>\n",
       "    <tr style=\"text-align: right;\">\n",
       "      <th></th>\n",
       "      <th>auteur</th>\n",
       "      <th>note</th>\n",
       "      <th>date</th>\n",
       "      <th>critique</th>\n",
       "    </tr>\n",
       "  </thead>\n",
       "  <tbody>\n",
       "    <tr>\n",
       "      <th>0</th>\n",
       "      <td>Johan Gendry</td>\n",
       "      <td>5,0</td>\n",
       "      <td>2020-04-11 00:00:00</td>\n",
       "      <td>\\n                      En 3 jours je me suis ...</td>\n",
       "    </tr>\n",
       "    <tr>\n",
       "      <th>1</th>\n",
       "      <td>Damianous</td>\n",
       "      <td>3,0</td>\n",
       "      <td>2020-04-01 00:00:00</td>\n",
       "      <td>\\n                      Ça commence plutôt bie...</td>\n",
       "    </tr>\n",
       "    <tr>\n",
       "      <th>2</th>\n",
       "      <td>Lilian Bernabeu</td>\n",
       "      <td>1,5</td>\n",
       "      <td>2020-03-30 00:00:00</td>\n",
       "      <td>\\n                      Bon je vais faire en s...</td>\n",
       "    </tr>\n",
       "    <tr>\n",
       "      <th>3</th>\n",
       "      <td>FaulKeuR</td>\n",
       "      <td>3,5</td>\n",
       "      <td>2020-03-22 00:00:00</td>\n",
       "      <td>\\n                      J. J. Abrams a eu la l...</td>\n",
       "    </tr>\n",
       "    <tr>\n",
       "      <th>4</th>\n",
       "      <td>Lin Guini</td>\n",
       "      <td>1,0</td>\n",
       "      <td>2020-03-20 00:00:00</td>\n",
       "      <td>\\n                      Pire idée de suite. Gâ...</td>\n",
       "    </tr>\n",
       "  </tbody>\n",
       "</table>\n",
       "</div>"
      ],
      "text/plain": [
       "            auteur note                 date  \\\n",
       "0     Johan Gendry  5,0  2020-04-11 00:00:00   \n",
       "1        Damianous  3,0  2020-04-01 00:00:00   \n",
       "2  Lilian Bernabeu  1,5  2020-03-30 00:00:00   \n",
       "3         FaulKeuR  3,5  2020-03-22 00:00:00   \n",
       "4        Lin Guini  1,0  2020-03-20 00:00:00   \n",
       "\n",
       "                                            critique  \n",
       "0  \\n                      En 3 jours je me suis ...  \n",
       "1  \\n                      Ça commence plutôt bie...  \n",
       "2  \\n                      Bon je vais faire en s...  \n",
       "3  \\n                      J. J. Abrams a eu la l...  \n",
       "4  \\n                      Pire idée de suite. Gâ...  "
      ]
     },
     "execution_count": 3,
     "metadata": {},
     "output_type": "execute_result"
    }
   ],
   "source": [
    "df.head()"
   ]
  },
  {
   "cell_type": "code",
   "execution_count": 4,
   "metadata": {},
   "outputs": [
    {
     "data": {
      "text/html": [
       "<div>\n",
       "<style scoped>\n",
       "    .dataframe tbody tr th:only-of-type {\n",
       "        vertical-align: middle;\n",
       "    }\n",
       "\n",
       "    .dataframe tbody tr th {\n",
       "        vertical-align: top;\n",
       "    }\n",
       "\n",
       "    .dataframe thead th {\n",
       "        text-align: right;\n",
       "    }\n",
       "</style>\n",
       "<table border=\"1\" class=\"dataframe\">\n",
       "  <thead>\n",
       "    <tr style=\"text-align: right;\">\n",
       "      <th></th>\n",
       "      <th>auteur</th>\n",
       "      <th>note</th>\n",
       "      <th>date</th>\n",
       "      <th>critique</th>\n",
       "    </tr>\n",
       "  </thead>\n",
       "  <tbody>\n",
       "    <tr>\n",
       "      <th>count</th>\n",
       "      <td>4595</td>\n",
       "      <td>4595</td>\n",
       "      <td>4595</td>\n",
       "      <td>4595</td>\n",
       "    </tr>\n",
       "    <tr>\n",
       "      <th>unique</th>\n",
       "      <td>4259</td>\n",
       "      <td>10</td>\n",
       "      <td>557</td>\n",
       "      <td>4591</td>\n",
       "    </tr>\n",
       "    <tr>\n",
       "      <th>top</th>\n",
       "      <td>Un visiteur</td>\n",
       "      <td>0,5</td>\n",
       "      <td>2015-12-26 00:00:00</td>\n",
       "      <td>\\n                      Un septième opus spect...</td>\n",
       "    </tr>\n",
       "    <tr>\n",
       "      <th>freq</th>\n",
       "      <td>99</td>\n",
       "      <td>598</td>\n",
       "      <td>279</td>\n",
       "      <td>2</td>\n",
       "    </tr>\n",
       "  </tbody>\n",
       "</table>\n",
       "</div>"
      ],
      "text/plain": [
       "             auteur  note                 date  \\\n",
       "count          4595  4595                 4595   \n",
       "unique         4259    10                  557   \n",
       "top     Un visiteur   0,5  2015-12-26 00:00:00   \n",
       "freq             99   598                  279   \n",
       "\n",
       "                                                 critique  \n",
       "count                                                4595  \n",
       "unique                                               4591  \n",
       "top     \\n                      Un septième opus spect...  \n",
       "freq                                                    2  "
      ]
     },
     "execution_count": 4,
     "metadata": {},
     "output_type": "execute_result"
    }
   ],
   "source": [
    "df.describe() # quelques informations sur les features"
   ]
  },
  {
   "cell_type": "code",
   "execution_count": 5,
   "metadata": {},
   "outputs": [],
   "source": [
    "# conversion des notes en entier\n",
    "df['note'] = df['note'].apply(lambda x: x.replace(',', '.')).apply(lambda x: float(x))"
   ]
  },
  {
   "cell_type": "code",
   "execution_count": 6,
   "metadata": {},
   "outputs": [
    {
     "data": {
      "text/plain": [
       "<matplotlib.axes._subplots.AxesSubplot at 0x7f5c61495860>"
      ]
     },
     "execution_count": 6,
     "metadata": {},
     "output_type": "execute_result"
    },
    {
     "data": {
      "image/png": "[encoded data removed]",
      "text/plain": [
       "<Figure size 864x432 with 1 Axes>"
      ]
     },
     "metadata": {
      "needs_background": "light"
     },
     "output_type": "display_data"
    }
   ],
   "source": [
    "df['note'].hist(bins=5, figsize=(12,6), rwidth=0.9)"
   ]
  },
  {
   "cell_type": "code",
   "execution_count": 7,
   "metadata": {},
   "outputs": [
    {
     "data": {
      "text/plain": [
       "<matplotlib.axes._subplots.AxesSubplot at 0x7f5c5f27e9e8>"
      ]
     },
     "execution_count": 7,
     "metadata": {},
     "output_type": "execute_result"
    },
    {
     "data": {
      "image/png": "[encoded data removed]",
      "text/plain": [
       "<Figure size 864x432 with 1 Axes>"
      ]
     },
     "metadata": {
      "needs_background": "light"
     },
     "output_type": "display_data"
    }
   ],
   "source": [
    "# distribution des notes\n",
    "df['note'].value_counts().plot(kind='bar', figsize=(12,6))"
   ]
  },
  {
   "cell_type": "code",
   "execution_count": 8,
   "metadata": {},
   "outputs": [
    {
     "data": {
      "image/png": "[encoded data removed]",
      "text/plain": [
       "<Figure size 800x800 with 1 Axes>"
      ]
     },
     "metadata": {},
     "output_type": "display_data"
    }
   ],
   "source": [
    "# Pie charts\n",
    "notes_cat = list(df['note'].value_counts().index)\n",
    "notes_distrib = df['note'].value_counts().values\n",
    "\n",
    "plt.figure(figsize=(4,4), dpi=200)\n",
    "plt.title('Distribution des notes pour le film Star Wars 7 sur allocine.fr')\n",
    "plt.pie(notes_distrib, labels=notes_cat, explode=[float(0.05) for i in range(10)], autopct='%1.1f%%')\n",
    "plt.show()"
   ]
  },
  {
   "cell_type": "code",
   "execution_count": 9,
   "metadata": {},
   "outputs": [
    {
     "name": "stdout",
     "output_type": "stream",
     "text": [
      "Moyenne des notes de star wars 7 (pour les personnes qui ont postées) : 2.8\n"
     ]
    }
   ],
   "source": [
    "print(\"Moyenne des notes de star wars 7 (pour les personnes qui ont postées) :\", round(df['note'].mean(), 1))\n",
    "# le site indique 3.5/5 pour l'ensemble des notes"
   ]
  },
  {
   "cell_type": "code",
   "execution_count": 10,
   "metadata": {},
   "outputs": [],
   "source": [
    "# conversion de la date en objet datetime\n",
    "df['date'] = pd.to_datetime(df['date'])"
   ]
  },
  {
   "cell_type": "code",
   "execution_count": 11,
   "metadata": {},
   "outputs": [],
   "source": [
    "# time series\n",
    "df.set_index('date', inplace=True)"
   ]
  },
  {
   "cell_type": "code",
   "execution_count": 12,
   "metadata": {},
   "outputs": [],
   "source": [
    "# du plus ancien commentaire au plus récent\n",
    "df.sort_index(inplace=True)"
   ]
  },
  {
   "cell_type": "code",
   "execution_count": 13,
   "metadata": {},
   "outputs": [
    {
     "data": {
      "text/plain": [
       "<matplotlib.axes._subplots.AxesSubplot at 0x7f5c5f349278>"
      ]
     },
     "execution_count": 13,
     "metadata": {},
     "output_type": "execute_result"
    },
    {
     "data": {
      "image/png": "[encoded data removed]",
      "text/plain": [
       "<Figure size 1080x720 with 1 Axes>"
      ]
     },
     "metadata": {
      "needs_background": "light"
     },
     "output_type": "display_data"
    }
   ],
   "source": [
    "df.groupby(df.index.date).count()['note'].plot(figsize=(15,10), grid=True)"
   ]
  },
  {
   "cell_type": "markdown",
   "metadata": {},
   "source": [
    "On remarque que l'essentiel des critiques se concentrent lors de la sortie du film. On observe également un pic d'activité lors de la sortie des deux films suivants Star Wars 8 (décembre 2017) et Star Wars 9 (décembre 2019) ainsi qu'au moment de la sortie des films dérivés de l'univers star wars (Rogue One et Solo, respectivement en décembre 2016 et mai 2018)."
   ]
  },
  {
   "cell_type": "code",
   "execution_count": 14,
   "metadata": {},
   "outputs": [
    {
     "name": "stdout",
     "output_type": "stream",
     "text": [
      "Jour du plus grand nombre de commentaires postés : Saturday, 26/12/2015\n",
      "279 commentaires\n"
     ]
    }
   ],
   "source": [
    "d = df.groupby(df.index.date).count()['note'].idxmax().strftime('%A, %d/%m/%Y')\n",
    "print('Jour du plus grand nombre de commentaires postés :', d)\n",
    "print(df.groupby(df.index.date).count()['note'].max(), 'commentaires')"
   ]
  },
  {
   "cell_type": "code",
   "execution_count": 15,
   "metadata": {},
   "outputs": [
    {
     "data": {
      "text/plain": [
       "Un visiteur     99\n",
       "Thomas C.        6\n",
       "Alexandre D.     5\n",
       "Romain M.        5\n",
       "Nicolas B.       5\n",
       "Nicolas T.       4\n",
       "Romain S.        4\n",
       "Olivier M.       4\n",
       "Alexandre L.     4\n",
       "Alex C.          4\n",
       "Name: auteur, dtype: int64"
      ]
     },
     "execution_count": 15,
     "metadata": {},
     "output_type": "execute_result"
    }
   ],
   "source": [
    "# 10 visiteurs qui ont posté le plus de critiques (noms génériques)\n",
    "df['auteur'].value_counts().head(10)"
   ]
  },
  {
   "cell_type": "markdown",
   "metadata": {},
   "source": [
    "# Partie 2 : Natural Language Processing"
   ]
  },
  {
   "cell_type": "markdown",
   "metadata": {},
   "source": [
    "## Préparation des données"
   ]
  },
  {
   "cell_type": "code",
   "execution_count": 16,
   "metadata": {
    "scrolled": true
   },
   "outputs": [
    {
     "name": "stdout",
     "output_type": "stream",
     "text": [
      "\n",
      "                      Le \"vrai\" ADN de la saga initiale, avec les moyens d'aujourd'hui (voir de demain). Un casting au top. indispensable.\n",
      "        \n",
      "            \n"
     ]
    }
   ],
   "source": [
    "# affichage d'une critique\n",
    "random_critique = df['critique'][45]\n",
    "print(random_critique)"
   ]
  },
  {
   "cell_type": "code",
   "execution_count": 17,
   "metadata": {},
   "outputs": [],
   "source": [
    "def strip_text(text):\n",
    "    return text.lstrip('\\n                      ').rstrip('\\n        \\n            ')"
   ]
  },
  {
   "cell_type": "code",
   "execution_count": 18,
   "metadata": {},
   "outputs": [],
   "source": [
    "df['critique'] = df['critique'].apply(strip_text)"
   ]
  },
  {
   "cell_type": "code",
   "execution_count": 19,
   "metadata": {},
   "outputs": [
    {
     "name": "stdout",
     "output_type": "stream",
     "text": [
      "Le \"vrai\" ADN de la saga initiale, avec les moyens d'aujourd'hui (voir de demain). Un casting au top. indispensable.\n"
     ]
    }
   ],
   "source": [
    "print(df['critique'][45])"
   ]
  },
  {
   "cell_type": "markdown",
   "metadata": {},
   "source": [
    "Création de la **feature** `sentiment` basée sur la note :\n",
    "- 0 équivaut à un sentiment positif\n",
    "- 1 à un sentiment négatif"
   ]
  },
  {
   "cell_type": "code",
   "execution_count": 20,
   "metadata": {},
   "outputs": [],
   "source": [
    "def create_sentiment(note):\n",
    "    \n",
    "    # sentiment négatif == 1\n",
    "    if note in [0.5,1,1.5,2]:\n",
    "        return 1\n",
    "    \n",
    "    # sentiment positif == 0\n",
    "    else:\n",
    "        return 0"
   ]
  },
  {
   "cell_type": "code",
   "execution_count": 21,
   "metadata": {},
   "outputs": [],
   "source": [
    "df['sentiment'] = df['note'].apply(create_sentiment)"
   ]
  },
  {
   "cell_type": "code",
   "execution_count": 22,
   "metadata": {},
   "outputs": [],
   "source": [
    "# on remet l'index numérique\n",
    "df.reset_index(inplace=True)"
   ]
  },
  {
   "cell_type": "code",
   "execution_count": 23,
   "metadata": {},
   "outputs": [
    {
     "data": {
      "text/html": [
       "<div>\n",
       "<style scoped>\n",
       "    .dataframe tbody tr th:only-of-type {\n",
       "        vertical-align: middle;\n",
       "    }\n",
       "\n",
       "    .dataframe tbody tr th {\n",
       "        vertical-align: top;\n",
       "    }\n",
       "\n",
       "    .dataframe thead th {\n",
       "        text-align: right;\n",
       "    }\n",
       "</style>\n",
       "<table border=\"1\" class=\"dataframe\">\n",
       "  <thead>\n",
       "    <tr style=\"text-align: right;\">\n",
       "      <th></th>\n",
       "      <th>date</th>\n",
       "      <th>auteur</th>\n",
       "      <th>note</th>\n",
       "      <th>critique</th>\n",
       "      <th>sentiment</th>\n",
       "    </tr>\n",
       "  </thead>\n",
       "  <tbody>\n",
       "    <tr>\n",
       "      <th>0</th>\n",
       "      <td>2015-12-02</td>\n",
       "      <td>Un visiteur</td>\n",
       "      <td>0.5</td>\n",
       "      <td>Un nouvel opus pas touchant et plein de maladr...</td>\n",
       "      <td>1</td>\n",
       "    </tr>\n",
       "    <tr>\n",
       "      <th>1</th>\n",
       "      <td>2015-12-16</td>\n",
       "      <td>JeanSéééééé</td>\n",
       "      <td>3.5</td>\n",
       "      <td>Tous les nouveaux personnages sont excellents ...</td>\n",
       "      <td>0</td>\n",
       "    </tr>\n",
       "    <tr>\n",
       "      <th>2</th>\n",
       "      <td>2015-12-16</td>\n",
       "      <td>Rainfall_Shadow</td>\n",
       "      <td>5.0</td>\n",
       "      <td>Fermez les yeux, réveillez vous 30 ans après l...</td>\n",
       "      <td>0</td>\n",
       "    </tr>\n",
       "    <tr>\n",
       "      <th>3</th>\n",
       "      <td>2015-12-16</td>\n",
       "      <td>Damien D</td>\n",
       "      <td>1.5</td>\n",
       "      <td>Ce film est tous simplement un film d action. ...</td>\n",
       "      <td>1</td>\n",
       "    </tr>\n",
       "    <tr>\n",
       "      <th>4</th>\n",
       "      <td>2015-12-16</td>\n",
       "      <td>pastorey B.</td>\n",
       "      <td>0.5</td>\n",
       "      <td>aprés la grosse banane de la menace fantome , ...</td>\n",
       "      <td>1</td>\n",
       "    </tr>\n",
       "  </tbody>\n",
       "</table>\n",
       "</div>"
      ],
      "text/plain": [
       "        date           auteur  note  \\\n",
       "0 2015-12-02      Un visiteur   0.5   \n",
       "1 2015-12-16      JeanSéééééé   3.5   \n",
       "2 2015-12-16  Rainfall_Shadow   5.0   \n",
       "3 2015-12-16         Damien D   1.5   \n",
       "4 2015-12-16      pastorey B.   0.5   \n",
       "\n",
       "                                            critique  sentiment  \n",
       "0  Un nouvel opus pas touchant et plein de maladr...          1  \n",
       "1  Tous les nouveaux personnages sont excellents ...          0  \n",
       "2  Fermez les yeux, réveillez vous 30 ans après l...          0  \n",
       "3  Ce film est tous simplement un film d action. ...          1  \n",
       "4  aprés la grosse banane de la menace fantome , ...          1  "
      ]
     },
     "execution_count": 23,
     "metadata": {},
     "output_type": "execute_result"
    }
   ],
   "source": [
    "df.head()"
   ]
  },
  {
   "cell_type": "code",
   "execution_count": 24,
   "metadata": {},
   "outputs": [],
   "source": [
    "# on import les stopwords de NLTK\n",
    "french_stopwords = set(stopwords.words('french'))"
   ]
  },
  {
   "cell_type": "code",
   "execution_count": 25,
   "metadata": {},
   "outputs": [],
   "source": [
    "\n",
    "vectorizer = CountVectorizer(stop_words=french_stopwords)"
   ]
  },
  {
   "cell_type": "code",
   "execution_count": 26,
   "metadata": {},
   "outputs": [],
   "source": [
    "all_features = vectorizer.fit_transform(df['critique'])"
   ]
  },
  {
   "cell_type": "code",
   "execution_count": 27,
   "metadata": {},
   "outputs": [
    {
     "data": {
      "text/plain": [
       "(4595, 26800)"
      ]
     },
     "execution_count": 27,
     "metadata": {},
     "output_type": "execute_result"
    }
   ],
   "source": [
    "all_features.shape"
   ]
  },
  {
   "cell_type": "code",
   "execution_count": 28,
   "metadata": {},
   "outputs": [],
   "source": [
    "X_train, X_test, y_train, y_test = train_test_split(all_features, df['sentiment'], test_size=0.2, random_state=42)"
   ]
  },
  {
   "cell_type": "code",
   "execution_count": 29,
   "metadata": {},
   "outputs": [
    {
     "data": {
      "text/plain": [
       "(3676, 26800)"
      ]
     },
     "execution_count": 29,
     "metadata": {},
     "output_type": "execute_result"
    }
   ],
   "source": [
    "X_train.shape"
   ]
  },
  {
   "cell_type": "code",
   "execution_count": 30,
   "metadata": {},
   "outputs": [
    {
     "data": {
      "text/plain": [
       "(919, 26800)"
      ]
     },
     "execution_count": 30,
     "metadata": {},
     "output_type": "execute_result"
    }
   ],
   "source": [
    "X_test.shape"
   ]
  },
  {
   "cell_type": "markdown",
   "metadata": {},
   "source": [
    "## Classification avec Naive Bayes"
   ]
  },
  {
   "cell_type": "code",
   "execution_count": 31,
   "metadata": {},
   "outputs": [],
   "source": [
    "classifier = MultinomialNB()"
   ]
  },
  {
   "cell_type": "code",
   "execution_count": 32,
   "metadata": {},
   "outputs": [
    {
     "data": {
      "text/plain": [
       "MultinomialNB(alpha=1.0, class_prior=None, fit_prior=True)"
      ]
     },
     "execution_count": 32,
     "metadata": {},
     "output_type": "execute_result"
    }
   ],
   "source": [
    "classifier.fit(X_train, y_train)"
   ]
  },
  {
   "cell_type": "code",
   "execution_count": 33,
   "metadata": {},
   "outputs": [],
   "source": [
    "predictions = classifier.predict(X_test)"
   ]
  },
  {
   "cell_type": "code",
   "execution_count": 34,
   "metadata": {},
   "outputs": [
    {
     "name": "stdout",
     "output_type": "stream",
     "text": [
      "              precision    recall  f1-score   support\n",
      "\n",
      "           0       0.85      0.90      0.87       577\n",
      "           1       0.81      0.73      0.77       342\n",
      "\n",
      "    accuracy                           0.84       919\n",
      "   macro avg       0.83      0.81      0.82       919\n",
      "weighted avg       0.83      0.84      0.83       919\n",
      "\n",
      "[[517  60]\n",
      " [ 91 251]]\n"
     ]
    }
   ],
   "source": [
    "print(classification_report(y_test, predictions))\n",
    "print(confusion_matrix(y_test, predictions))"
   ]
  },
  {
   "cell_type": "code",
   "execution_count": 35,
   "metadata": {},
   "outputs": [
    {
     "name": "stdout",
     "output_type": "stream",
     "text": [
      "Nombre de bonnes prédictions 768\n"
     ]
    }
   ],
   "source": [
    "nb_correct = (y_test == predictions).sum()\n",
    "print('Nombre de bonnes prédictions', nb_correct)"
   ]
  },
  {
   "cell_type": "code",
   "execution_count": 36,
   "metadata": {},
   "outputs": [
    {
     "name": "stdout",
     "output_type": "stream",
     "text": [
      "Nombre de mauvaises prédictions 151\n"
     ]
    }
   ],
   "source": [
    "nb_incorrect = y_test.size - nb_correct\n",
    "print('Nombre de mauvaises prédictions', nb_incorrect)"
   ]
  },
  {
   "cell_type": "code",
   "execution_count": 37,
   "metadata": {},
   "outputs": [
    {
     "name": "stdout",
     "output_type": "stream",
     "text": [
      "La précision du modèle est de 83.57%\n"
     ]
    }
   ],
   "source": [
    "fraction_wrong = nb_incorrect / (y_test.size)\n",
    "print(f'La précision du modèle est de {1-fraction_wrong:.2%}')"
   ]
  },
  {
   "cell_type": "markdown",
   "metadata": {},
   "source": [
    "## Test avec des commentaires fictifs (*sentiment analysis*)"
   ]
  },
  {
   "cell_type": "code",
   "execution_count": 38,
   "metadata": {},
   "outputs": [],
   "source": [
    "# on génère des commentaires fictifs\n",
    "commentaires = [\"Ce film est nul ! C'est le plus mauvais film que j'ai vu depuis longtemps. Aucun intérêt. Une sombre daube\",\n",
    "               \"Ce film est génial, c'est le meilleur Star Wars. Super film, j'ai adoré !\",\n",
    "              \"C'est un très très bon star wars, j'ai beaucoup aimé ce film, il est génial, les personnages sont excellents.\",\n",
    "              \"C'est le pire film de l'année, une vraie bouse, médiocre. Un film débile, j'ai détesté !\"]"
   ]
  },
  {
   "cell_type": "code",
   "execution_count": 39,
   "metadata": {},
   "outputs": [],
   "source": [
    "# on vectorise les commentaires pour la prédiction\n",
    "doc_term_matrix = vectorizer.transform(commentaires)"
   ]
  },
  {
   "cell_type": "markdown",
   "metadata": {},
   "source": [
    "Ici, une boucle nous permettra des tester nos commentaires. Les critiques positives sont affichées en `vert`, les critiques négatives en `rouge`."
   ]
  },
  {
   "cell_type": "code",
   "execution_count": 40,
   "metadata": {},
   "outputs": [
    {
     "name": "stdout",
     "output_type": "stream",
     "text": [
      "\u001b[31m[-] Ce film est nul ! C'est le plus mauvais film que j'ai vu depuis longtemps. Aucun intérêt. Une sombre daube\u001b[0m\n",
      "\u001b[32m[+] Ce film est génial, c'est le meilleur Star Wars. Super film, j'ai adoré !\u001b[0m\n",
      "\u001b[32m[+] C'est un très très bon star wars, j'ai beaucoup aimé ce film, il est génial, les personnages sont excellents.\u001b[0m\n",
      "\u001b[31m[-] C'est le pire film de l'année, une vraie bouse, médiocre. Un film débile, j'ai détesté !\u001b[0m\n"
     ]
    }
   ],
   "source": [
    "for result, commentaire in zip(classifier.predict(doc_term_matrix), commentaires):\n",
    "    if result == 1:\n",
    "        commentaire = Fore.RED + '[-] ' + commentaire + Style.RESET_ALL\n",
    "    else:\n",
    "        commentaire = Fore.GREEN + '[+] ' + commentaire + Style.RESET_ALL\n",
    "    print(commentaire)"
   ]
  },
  {
   "cell_type": "markdown",
   "metadata": {},
   "source": [
    "## Examen des critiques mal classées"
   ]
  },
  {
   "cell_type": "code",
   "execution_count": 41,
   "metadata": {},
   "outputs": [
    {
     "name": "stdout",
     "output_type": "stream",
     "text": [
      "Nombre de critiques dans notre jeu d'entraînement : 919\n"
     ]
    }
   ],
   "source": [
    "nbr_crit = y_test.size\n",
    "print('Nombre de critiques dans notre jeu d\\'entraînement :', nbr_crit)"
   ]
  },
  {
   "cell_type": "code",
   "execution_count": 42,
   "metadata": {},
   "outputs": [
    {
     "name": "stdout",
     "output_type": "stream",
     "text": [
      "Nombre de critiques positives dans notre jeu d'entraînement:\t577\t63%\n"
     ]
    }
   ],
   "source": [
    "nbr_crit_pos = y_test[y_test == 0].size\n",
    "print(f'Nombre de critiques positives dans notre jeu d\\'entraînement:\\\n",
    "\\t{nbr_crit_pos}\\t{nbr_crit_pos/nbr_crit:.0%}')"
   ]
  },
  {
   "cell_type": "code",
   "execution_count": 43,
   "metadata": {},
   "outputs": [
    {
     "name": "stdout",
     "output_type": "stream",
     "text": [
      "Nombre de critiques négatives dans notre jeu d'entraînement:\t342\t37%\n"
     ]
    }
   ],
   "source": [
    "nbr_crit_neg = y_test.sum()\n",
    "print(f'Nombre de critiques négatives dans notre jeu d\\'entraînement:\\\n",
    "\\t{nbr_crit_neg}\\t{nbr_crit_neg/nbr_crit:.0%}')"
   ]
  },
  {
   "cell_type": "markdown",
   "metadata": {},
   "source": [
    "### Examen des critiques négatives classées comme postives"
   ]
  },
  {
   "cell_type": "code",
   "execution_count": 44,
   "metadata": {},
   "outputs": [
    {
     "name": "stdout",
     "output_type": "stream",
     "text": [
      "91 critiques négatives sont mal classées (26.61%)\n"
     ]
    }
   ],
   "source": [
    "nbr_crit_neg_mal_clas = df.loc[y_test[(y_test == 1) & (predictions == 0)].index].sum()['sentiment']\n",
    "print(f\"{nbr_crit_neg_mal_clas} critiques négatives sont mal classées \\\n",
    "({nbr_crit_neg_mal_clas/nbr_crit_neg:.2%})\")"
   ]
  },
  {
   "cell_type": "markdown",
   "metadata": {},
   "source": [
    "On peut voir en détail quelles sont les critiques mal classées en fonction de leur note originelle"
   ]
  },
  {
   "cell_type": "code",
   "execution_count": 45,
   "metadata": {},
   "outputs": [
    {
     "data": {
      "text/plain": [
       "2.0    48\n",
       "1.0    18\n",
       "1.5    16\n",
       "0.5     9\n",
       "Name: note, dtype: int64"
      ]
     },
     "execution_count": 45,
     "metadata": {},
     "output_type": "execute_result"
    }
   ],
   "source": [
    "df.loc[y_test[(y_test == 1) & (predictions == 0)].index]['note'].value_counts()"
   ]
  },
  {
   "cell_type": "markdown",
   "metadata": {},
   "source": [
    "Plus de la moitié des commentaires négatifs mal classés sont les commentaires ayant recueillis la note de **2/5**. C'est assez logique, ce sont les moins péjoratifs donc les plus difficiles à classer, que ce soit pour un humain ou un algorithme."
   ]
  },
  {
   "cell_type": "code",
   "execution_count": 46,
   "metadata": {},
   "outputs": [
    {
     "data": {
      "text/plain": [
       "2.0    0.140351\n",
       "1.0    0.052632\n",
       "1.5    0.046784\n",
       "0.5    0.026316\n",
       "Name: note, dtype: float64"
      ]
     },
     "execution_count": 46,
     "metadata": {},
     "output_type": "execute_result"
    }
   ],
   "source": [
    "df.loc[y_test[(y_test == 1) & (predictions == 0)].index]['note'].value_counts() / y_test.sum()"
   ]
  },
  {
   "cell_type": "markdown",
   "metadata": {},
   "source": [
    "On remarque également que **14%** des critiques ayant eu la note de **2/5** sont mal classées. En revanche seulement **2.6%** des critiques les plus négatives **0.5/5** sont considérées comme positives."
   ]
  },
  {
   "cell_type": "code",
   "execution_count": 47,
   "metadata": {},
   "outputs": [],
   "source": [
    "# on récupère l'index des 9 critiques négatives notées 0.5/5 classées comme positives\n",
    "false_negatives = df.loc[y_test[(y_test == 1) & (predictions == 0)].index]\n",
    "index_false_neg = false_negatives[false_negatives['note'] == 0.5].index"
   ]
  },
  {
   "cell_type": "code",
   "execution_count": 48,
   "metadata": {},
   "outputs": [
    {
     "name": "stdout",
     "output_type": "stream",
     "text": [
      "3052 : Ni puriste, ni indifférent, j'ai trouvé ce nouvel opus gâché par son scénario !\n",
      "La réalisation elle n'est pas trop mal, l'univers est respecté.\n",
      "Je n'ai aimé pratiquement aucun jeux d'acteur sauf certains qui étaient déjà présent dans les anciens. Le pire de tous reste l'interprète de Kylo Ren. Quand à Rey et Finn, ce n'est pas qu'ils sont mauvais mais ils n'ont pas réussi à me toucher. Oscar Isaac relève un peu le niveau.\n",
      "Ce que je n'ai pas aimé non plus est la non crédibilité de certaines scènes et surtout la relation d'un certain personnage avec la force (mais je vous laisse découvrir par vous même).\n",
      "Conclusion : l'histoire est vraiment ce qui m'a fait le plus detester ce film suivi de l'erreur de casting.\n",
      "****************************************************************************************************\n",
      "3728 : Pour résumer,\n",
      "\n",
      "Si vous n'avais JAMAIS vu Star Wars, vous allez aimer ce film.\n",
      "Si vous avez entre 3 et 13 ans, vous allez aimer ce film.\n",
      "Si vous aimez ne pas réfléchir et regarder des images, vous allez aimer ce film.\n",
      "\n",
      "Par contre, si vous portez la moindre attention aux détails, et que vous êtes un vrai fan de Star Wars, et avez plus de 13 ans, ce film n'est pas pour vous.\n",
      "\n",
      "Ce film fait preuve d'une paresse scénaristique, appuyant seulement son succès sur deux mots : Star Wars.\n",
      "\n",
      "Ce que j'ai préféré dans ce film c'est l'actrice Daisy Ridley(Rey), juste l'actrice, pas le scénario qui l'entoure. Et BB-8.\n",
      "****************************************************************************************************\n",
      "2753 : Réalisé et co-écrit par J.J Abrams, ce film marque le début de la troisième trilogie « Star Wars ».\n",
      "Et la déception est grande, très grande … Pourtant cela partait d’une bonne intention ! Vouloir faire un film « rétro » qui conserve le style de la première trilogie. Après tout pourquoi pas !!! Il y a juste un tout petit problème … \n",
      "Vouloir faire une suite au « Retour de Jedi » ? OUI ! Volontiers !!!\n",
      "Mais faire de ce film une pâle copie de l’Episode IV ?!? Alors ça NON !!!\n",
      "Pourtant, entre ses deux trilogies, Georges Lucas s’était bien amusé à faire des petits clins d’œil. On peut noter que l’Episode I fait pas mal de référence au IV, ainsi que le II au V, et le III au VI. Mais c’était toujours très subtil ! A coté de cela, Lucas s’est toujours efforcé d’inventer des histoires différentes, des nouvelles civilisations, de nouveaux vaisseaux que nous n’avions pas découvert dans la première trilogie.\n",
      "Ici, dans « Le Réveil de la force », ce n’est pas subtil, ce ne sont pas des clins d’œil ! On est, à certains moments, à deux doigts du plagiat de l’Episode IV quand même !!! Le pitch ???\n",
      "\n",
      "spoiler: \n",
      "C’est l’histoire d’un petit droïde qui se cache sur une planète désertique car il contient des plans qui intéressent fortement l’ennemi. Il rencontre une personne qui va décider de l’aider à retourner au près de son propriétaire. Pour partir de cette planète, ils vont être aider par un contrebandier appelé Han Solo. Il se trouve que l’ennemi possède une arme gigantesque qui sert à détruire des planètes. Pendant son périple, le personnage découvre qu’il possède des pouvoirs spéciaux, et, à la fin, l’un des personnages l’ayant aidé dans sa quête se fait tuer par l’ennemi. Sans oublier que les « gentils » réussissent à détruire l’arme des « méchants ».\n",
      "\n",
      "\n",
      "\n",
      "…\n",
      "\n",
      "Waow, quelle originalité !!! On est sûr que les scénaristes ont dû passer des heures à écrire le scénario …\n",
      "Franchement, quel gâchis, on leur donne l’occasion de donner une suite à l’une des plus grandes sagas du 7ème art, et ils nous font un film tout droit sorti des studio MARVEL.\n",
      "Bref, en espérant que les deux suites soient nettement mieux – ça ne sera pas très difficile en même temps – mais honnêtement, on en doute … \n",
      "Après tout, peut être que le VIII ne sera pas le remake du V. Il commencera juste par une bataille sur une planète de glace qui ne sera pas Hoth, puis embrayera sur la formation de Rey avec un vieux Luke croulant dans un coin paumé du cosmos. Rey finira par ressentir la détresse de ses amis aux prises avec le premier ordre, et volera à leur secours. Elle affrontera à nouveau le « méchant » qui aura fait beaucoup de progrès. Ce dernier lui coupera surement une main avant de lui annoncer qu’ils sont cousins. Rey finira par être secouru par Poe, et eux deux partiront au secours d’un Finn congelé, tombé entre les mains de Bongo Fett, un chasseur de prime dont nous aurons encore tout à découvrir. Et tant qu’à faire, l’épisode s’appellera « Le premier ordre riposte ».\n",
      "\n",
      "Honnêtement, qui aurait cru que le gros navet de 2015 soit un Star Wars …\n",
      "****************************************************************************************************\n",
      "2609 : Bon effets speciaux surtout en 3D mais absence de scénario avec beaucoup de recopie des anciens star wars.  acteurs pas top. et beaucoup d incohérences.\n",
      "****************************************************************************************************\n",
      "1598 : Heureusement qu'il y a cette actrice qui joue rey très bon rôle et décors super.\n",
      "\n",
      "Sinon, le scénario il n'y a pas de surprise ... C'est du déjà vu. \n",
      "\n",
      "L histoire rey\\finn est \"disneyisé\" en l espace de 5 min ils deviennent inséparable tu sens l histoire d amour à 3 m bref une jolie compte de fée. Manque de noirceur.\n",
      "****************************************************************************************************\n",
      "4568 : Génial ! Tout simplement ! Un coup de maitre. \"Plus c'est gros, mieux ça passe.\" Il est super ton épisode VII, J.J., sauf que c'est l'épisode IV en fait.\n",
      "****************************************************************************************************\n",
      "1406 : Remake de l'Épisode IV : Un Nouvel Espoir, niveau zéro d'originalité. Je conseille vivement à ceux qui l'ont vu de ne pas faire d'amalgames avec la saga réalisée et/ou produite par George Lucas et 20th Century. Cela conduirait à condamner Star Wars à la nuit, à le faire sombrer dans l'oubli à cause d'une 3eme trilogie qui n'aurait rien d'original dans son scénario et sa trame. Le jeu des 2 nouveaux acteurs est bon en revanche, encore que le personnage de Finn craint, n'étant pas sûr de lui contrairement à Ren. Et Han Solo qui meurt, franchement c'est Ben Kenobi dans l'Épisode IV... Aucune originalité\n",
      "****************************************************************************************************\n",
      "1491 : de nombreuses incohérences, des acteurs desastreux, je n'ai pas du tout accroché, on est bien loin de la toute première trilogie.\n",
      "****************************************************************************************************\n",
      "3683 : Je crois que J.J Abrams a fait presque tout ce qu'il ne fallait pas faire pour relancer une saga telle que Star Wars ... Ce film n'est qu'une pâle copie de l'épisode IV, arrosée d'une surdose de fan service qui le rend plus indigeste encore. Rien n'est original dans ce film que ce soit dans les décors, les personnages, le scénario, même les musiques ... pire encore, le réalisateur a beau \"s'inspirer\" des créations précédentes, il n'arrive même pas à recopier quelque chose de cohérent et de qualité. Tout y est bâclé, on a le sentiment qu'Abrams n'a fait que cocher les cases d'une checklist des choses à faire pour que son film soit estampillé Star Wars. Mais le fait est là aucun souvenir marquant à la sortie de la salle, ce n'est pas digne d'un Star Wars.\n",
      "****************************************************************************************************\n"
     ]
    }
   ],
   "source": [
    "for index in index_false_neg:\n",
    "    print(index, ':', df.iloc[index]['critique'])\n",
    "    print('*' * 100)"
   ]
  },
  {
   "cell_type": "markdown",
   "metadata": {},
   "source": [
    "On remarque que certaines critiques, notamment la **4568** sont difficiles à classer car leurs auteurs utlisent l'ironie et donc des termes mélioratifs pour exprimer un sentiment négatif. L'algorithme Naive Bayes classe les critiques en fonction de la présence de certains termes : si ces termes sont davatange présents dans les critiques positives, alors il en déduira que la critique est positive. Une utilisation de termes mélioratifs fera que la critique sera statistiquement considérée comme étant positive."
   ]
  },
  {
   "cell_type": "markdown",
   "metadata": {},
   "source": [
    "### Examen des critiques positives classées comme négatives"
   ]
  },
  {
   "cell_type": "code",
   "execution_count": 49,
   "metadata": {},
   "outputs": [
    {
     "name": "stdout",
     "output_type": "stream",
     "text": [
      "60 critiques positives sur 577 sont mal classées (10.40%)\n"
     ]
    }
   ],
   "source": [
    "nbr_crit_pos_mal_clas = df.loc[y_test[(y_test == 0) & (predictions == 1)]].shape[0]\n",
    "print(f\"{nbr_crit_pos_mal_clas} critiques positives sur {nbr_crit_pos} sont mal classées \\\n",
    "({nbr_crit_pos_mal_clas/nbr_crit_pos:.2%})\")"
   ]
  },
  {
   "cell_type": "code",
   "execution_count": 50,
   "metadata": {},
   "outputs": [
    {
     "data": {
      "text/plain": [
       "2.5    30\n",
       "3.0    13\n",
       "3.5    10\n",
       "5.0     3\n",
       "4.5     2\n",
       "4.0     2\n",
       "Name: note, dtype: int64"
      ]
     },
     "execution_count": 50,
     "metadata": {},
     "output_type": "execute_result"
    }
   ],
   "source": [
    "df.loc[y_test[(y_test == 0) & (predictions == 1)].index]['note'].value_counts()"
   ]
  },
  {
   "cell_type": "code",
   "execution_count": 51,
   "metadata": {},
   "outputs": [
    {
     "data": {
      "text/plain": [
       "<matplotlib.axes._subplots.AxesSubplot at 0x7f5c5cfb8f98>"
      ]
     },
     "execution_count": 51,
     "metadata": {},
     "output_type": "execute_result"
    },
    {
     "data": {
      "image/png": "[encoded data removed]",
      "text/plain": [
       "<Figure size 432x288 with 1 Axes>"
      ]
     },
     "metadata": {
      "needs_background": "light"
     },
     "output_type": "display_data"
    }
   ],
   "source": [
    "# on peut localiser les critiques et afficher un histogramme\n",
    "plt.title('Critiques positives classées comme négatives')\n",
    "plt.xlabel('Notes')\n",
    "plt.ylabel('Distribution')\n",
    "df.loc[y_test[(y_test == 0) & (predictions == 1)].index]['note'].value_counts().plot(kind='bar')"
   ]
  },
  {
   "cell_type": "code",
   "execution_count": 52,
   "metadata": {},
   "outputs": [
    {
     "data": {
      "text/plain": [
       "2.5    0.500000\n",
       "3.0    0.216667\n",
       "3.5    0.166667\n",
       "5.0    0.050000\n",
       "4.5    0.033333\n",
       "4.0    0.033333\n",
       "Name: note, dtype: float64"
      ]
     },
     "execution_count": 52,
     "metadata": {},
     "output_type": "execute_result"
    }
   ],
   "source": [
    "df.loc[y_test[(y_test == 0) & (predictions == 1)].index]['note'].value_counts() / nbr_crit_pos_mal_clas"
   ]
  },
  {
   "cell_type": "markdown",
   "metadata": {},
   "source": [
    "De la même manière, on observe que les critiques positives les moins bien classées sont celles ayant obtenues la note de **2.5/5**. Ce sont les \"moins bonnes\" des critiques positives et donc celles les plus susceptibles d'utiliser des termes péjoratifs."
   ]
  },
  {
   "cell_type": "code",
   "execution_count": 53,
   "metadata": {},
   "outputs": [],
   "source": [
    "# on affiche les 3 critiques 5/5 mal classées\n",
    "\n",
    "false_positives = df.loc[y_test[(y_test == 0) & (predictions == 1)].index]\n",
    "index_false_pos = false_positives[false_positives['note'] == 5].index"
   ]
  },
  {
   "cell_type": "code",
   "execution_count": 54,
   "metadata": {},
   "outputs": [
    {
     "name": "stdout",
     "output_type": "stream",
     "text": [
      "3807 : Bonjour je voudrais juste dire à ceux qui mette des critique aussi horrible a mettre même une étoile il dise n'importe quoi il connaisse rien sur star wars il sont rien comprit vous il ďisent que c la même histoire que dans le 4/5/6 oui je suis d'accord avec sa mais pas complètement par ce que moi je dis que c la suite de l'histoire c pas de la pareille c juste la suite de l'histoire moi je trouve qu'il étais cool de film il était superbes et en plus à ce qui dise que c'était nul l'épisode 8 sera mieux par ce que j'ai vue qu'il vont changer l'histoire sa va pas être pareille comme vous dites donc aller le regarder il sera mieux je vous le promet . Moi j'ai adorée se film touts était bien fait je suis encore une fois fan de cette épisode 7 touts et bien joué je met les 5etoiles je donnerais 100/100 pour se film j'adore les personnages qui joue dedant et touts .merci d'avoir lu ma critiques\n",
      "****************************************************************************************************\n",
      "3024 : Mesdames Messieurs les \"haters\", ne vous consternez pas ! Vous criez au scandale de la note de ce film, en invoquant que les critiques sont soit disant toutes négatives...! Les critiques qui apparaissent en \"liké\" oui, mais cela n'est qu'une faille de présentation de la page ! Vous oubliez un détail : il n'y a aucune conspiration, et 17000 notes rendues ! Donc...\n",
      "Les arguments attenants aux critiques négatives sont incohérents au possible ; Rey ne découvre pas la force en 5 min !!! Comment pouvez croire une seule seconde à cette théorie si facile ??? C'est évident qu'il ne s'agit pas de cela ! \n",
      "Rey a forcément reçu une formation jedi dont elle n'a aucun souvenir; d'ailleurs le film est explicite tant elle ne se souvient même pas de son enfance ! Pourquoi ? Comment ? Hey calmos ! Il y a 3 films ! Laissez donc un peu d'interrogation vous habiter...!!! \n",
      "Quand à KYLO, vous auriez crier au scandale d'un Vador Bis qui aurait forcément été raté! Il est impossible de surclasser Vador en charge émotive, froideur, etc etc. En reproduire un soit disant meilleur, etc n'aurait été qu'une Farce ! Personne n'y aurait cru une seconde;\n",
      "Ah tiens ? je croyais que l'ep 7 n'était qu'un plagiat ! A la place on nous propose d'autres types de méchants, dont le développement dans les prochains films, promet ! Vous n'aimez pas ? Ok. C'est un point de vue. Inutile donc d'en dégouter les autres; Vous ne convaincrez personne. \n",
      "Ragez donc dans votre coin et laissez nous apprécier un film de qualité, bien réalisé; dont les intrigues sont amenés de manière simple et divertissante. A voir, sans se prendre la tête...!\n",
      "****************************************************************************************************\n",
      "4593 : En 3 jours je me suis regardé les 6 vrais stars wars et quand je passe au 7 bun non désolé jusqu'à la fin une torture sans imagination sans logique. Ce n'est plus du stars wars mais du Disney wars. On voit clairement que le Père de cette univers n'a pas mis ça patte la dedans une suite sans logique 😭😭😭 \n",
      "\n",
      "PS je ne compte plus le nombre de fois où j'ai vu les 6 stars wars quand au Disney wars je l'ai est regardé 2 fois chacun plus 1 fois au cinéma honnêtement je ne comprend pas. Surtout qu'avec rogue one on retrouve un  univers intéressant non un échec cette suite\n",
      "****************************************************************************************************\n"
     ]
    }
   ],
   "source": [
    "for index in index_false_pos:\n",
    "    print(index, ':', df.loc[index]['critique'])\n",
    "    print('*' * 100)"
   ]
  },
  {
   "cell_type": "markdown",
   "metadata": {},
   "source": [
    "On remarque une chose intéressante ici c'est que l'algorithme a correctement classée une critique positive comme étant négative. En effet la critique **4593** est négative mais a été notée positivement par son auteur (sûrement une erreur de l'auteur au moment de la saisie de la note). Quant aux deux autres critiques, il s'agit de critiques dans lesquelles leurs auteurs défendent leur point de vue et s'en prennent aux *haters* et donc utilisent des termes péjoratifs pour désigner ces derniers. Les termes péjoratifs classent donc la critique dans la catégorie négative."
   ]
  },
  {
   "cell_type": "code",
   "execution_count": 55,
   "metadata": {},
   "outputs": [
    {
     "data": {
      "text/plain": [
       "5.0"
      ]
     },
     "execution_count": 55,
     "metadata": {},
     "output_type": "execute_result"
    }
   ],
   "source": [
    "# par sécurité, on vérifie que la critique 4593 est bien notée 5/5\n",
    "df.iloc[4593]['note']"
   ]
  },
  {
   "cell_type": "markdown",
   "metadata": {},
   "source": [
    "## Classification avec SVM"
   ]
  },
  {
   "cell_type": "code",
   "execution_count": 56,
   "metadata": {},
   "outputs": [],
   "source": [
    "from sklearn.svm import SVC"
   ]
  },
  {
   "cell_type": "code",
   "execution_count": 57,
   "metadata": {},
   "outputs": [],
   "source": [
    "svc = SVC(kernel='linear', C=5)"
   ]
  },
  {
   "cell_type": "code",
   "execution_count": 58,
   "metadata": {},
   "outputs": [
    {
     "data": {
      "text/plain": [
       "SVC(C=5, break_ties=False, cache_size=200, class_weight=None, coef0=0.0,\n",
       "    decision_function_shape='ovr', degree=3, gamma='scale', kernel='linear',\n",
       "    max_iter=-1, probability=False, random_state=None, shrinking=True,\n",
       "    tol=0.001, verbose=False)"
      ]
     },
     "execution_count": 58,
     "metadata": {},
     "output_type": "execute_result"
    }
   ],
   "source": [
    "svc.fit(X_train, y_train)"
   ]
  },
  {
   "cell_type": "code",
   "execution_count": 59,
   "metadata": {},
   "outputs": [],
   "source": [
    "svc_predictions = svc.predict(X_test)"
   ]
  },
  {
   "cell_type": "code",
   "execution_count": 60,
   "metadata": {},
   "outputs": [
    {
     "name": "stdout",
     "output_type": "stream",
     "text": [
      "              precision    recall  f1-score   support\n",
      "\n",
      "           0       0.83      0.83      0.83       577\n",
      "           1       0.71      0.71      0.71       342\n",
      "\n",
      "    accuracy                           0.78       919\n",
      "   macro avg       0.77      0.77      0.77       919\n",
      "weighted avg       0.78      0.78      0.78       919\n",
      "\n",
      "[[478  99]\n",
      " [100 242]]\n"
     ]
    }
   ],
   "source": [
    "print(classification_report(y_test, svc_predictions))\n",
    "print(confusion_matrix(y_test, svc_predictions))"
   ]
  },
  {
   "cell_type": "markdown",
   "metadata": {},
   "source": [
    "## Avec GridSearchCV"
   ]
  },
  {
   "cell_type": "code",
   "execution_count": 61,
   "metadata": {},
   "outputs": [],
   "source": [
    "from sklearn.model_selection import GridSearchCV"
   ]
  },
  {
   "cell_type": "code",
   "execution_count": 62,
   "metadata": {},
   "outputs": [],
   "source": [
    "parameters = {'C':[i for i in range(1, 20)]}"
   ]
  },
  {
   "cell_type": "code",
   "execution_count": 63,
   "metadata": {},
   "outputs": [
    {
     "data": {
      "text/plain": [
       "{'C': [1, 2, 3, 4, 5, 6, 7, 8, 9, 10, 11, 12, 13, 14, 15, 16, 17, 18, 19]}"
      ]
     },
     "execution_count": 63,
     "metadata": {},
     "output_type": "execute_result"
    }
   ],
   "source": [
    "parameters"
   ]
  },
  {
   "cell_type": "code",
   "execution_count": 64,
   "metadata": {},
   "outputs": [],
   "source": [
    "clf = GridSearchCV(svc, parameters, cv=2)"
   ]
  },
  {
   "cell_type": "code",
   "execution_count": 65,
   "metadata": {},
   "outputs": [
    {
     "data": {
      "text/plain": [
       "GridSearchCV(cv=2, error_score=nan,\n",
       "             estimator=SVC(C=5, break_ties=False, cache_size=200,\n",
       "                           class_weight=None, coef0=0.0,\n",
       "                           decision_function_shape='ovr', degree=3,\n",
       "                           gamma='scale', kernel='linear', max_iter=-1,\n",
       "                           probability=False, random_state=None, shrinking=True,\n",
       "                           tol=0.001, verbose=False),\n",
       "             iid='deprecated', n_jobs=None,\n",
       "             param_grid={'C': [1, 2, 3, 4, 5, 6, 7, 8, 9, 10, 11, 12, 13, 14,\n",
       "                               15, 16, 17, 18, 19]},\n",
       "             pre_dispatch='2*n_jobs', refit=True, return_train_score=False,\n",
       "             scoring=None, verbose=0)"
      ]
     },
     "execution_count": 65,
     "metadata": {},
     "output_type": "execute_result"
    }
   ],
   "source": [
    "clf.fit(X_train, y_train)"
   ]
  },
  {
   "cell_type": "code",
   "execution_count": 66,
   "metadata": {},
   "outputs": [
    {
     "name": "stdout",
     "output_type": "stream",
     "text": [
      "{'C': 1}\n"
     ]
    }
   ],
   "source": [
    "print(clf.best_params_) # on relance svc avec C=1 en paramètre"
   ]
  },
  {
   "cell_type": "code",
   "execution_count": 67,
   "metadata": {},
   "outputs": [
    {
     "name": "stdout",
     "output_type": "stream",
     "text": [
      "              precision    recall  f1-score   support\n",
      "\n",
      "           0       0.83      0.83      0.83       577\n",
      "           1       0.71      0.71      0.71       342\n",
      "\n",
      "    accuracy                           0.78       919\n",
      "   macro avg       0.77      0.77      0.77       919\n",
      "weighted avg       0.78      0.78      0.78       919\n",
      "\n",
      "[[477 100]\n",
      " [100 242]]\n"
     ]
    }
   ],
   "source": [
    "svc = SVC(kernel='linear', C=1)\n",
    "svc.fit(X_train, y_train)\n",
    "svc_predictions = svc.predict(X_test)\n",
    "print(classification_report(y_test, svc_predictions))\n",
    "print(confusion_matrix(y_test, svc_predictions))"
   ]
  },
  {
   "cell_type": "markdown",
   "metadata": {},
   "source": [
    "Avec un meilleur `paramètre` C, on obtient un plus mauvais résultat (1 bonne prédiction en moins)."
   ]
  }
 ],
 "metadata": {
  "kernelspec": {
   "display_name": "Python 3",
   "language": "python",
   "name": "python3"
  },
  "language_info": {
   "codemirror_mode": {
    "name": "ipython",
    "version": 3
   },
   "file_extension": ".py",
   "mimetype": "text/x-python",
   "name": "python",
   "nbconvert_exporter": "python",
   "pygments_lexer": "ipython3",
   "version": "3.6.9"
  }
 },
 "nbformat": 4,
 "nbformat_minor": 2
}
